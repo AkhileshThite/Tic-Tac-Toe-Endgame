{
  "nbformat": 4,
  "nbformat_minor": 0,
  "metadata": {
    "colab": {
      "name": "Copy of artificial_neural_network.ipynb",
      "provenance": [],
      "collapsed_sections": []
    },
    "kernelspec": {
      "name": "python3",
      "display_name": "Python 3"
    }
  },
  "cells": [
    {
      "cell_type": "markdown",
      "metadata": {
        "id": "gWZyYmS_UE_L",
        "colab_type": "text"
      },
      "source": [
        "### Importing the libraries"
      ]
    },
    {
      "cell_type": "code",
      "metadata": {
        "id": "MxkJoQBkUIHC",
        "colab_type": "code",
        "colab": {}
      },
      "source": [
        "import numpy as np\n",
        "import pandas as pd\n",
        "import tensorflow as tf"
      ],
      "execution_count": 22,
      "outputs": []
    },
    {
      "cell_type": "code",
      "metadata": {
        "id": "ZaTwK7ojXr2F",
        "colab_type": "code",
        "colab": {
          "base_uri": "https://localhost:8080/",
          "height": 35
        },
        "outputId": "b75252cc-4ba2-44a2-c150-63059bf47dda"
      },
      "source": [
        "tf.__version__"
      ],
      "execution_count": 23,
      "outputs": [
        {
          "output_type": "execute_result",
          "data": {
            "application/vnd.google.colaboratory.intrinsic+json": {
              "type": "string"
            },
            "text/plain": [
              "'2.3.0'"
            ]
          },
          "metadata": {
            "tags": []
          },
          "execution_count": 23
        }
      ]
    },
    {
      "cell_type": "markdown",
      "metadata": {
        "id": "1E0Q3aoKUCRX",
        "colab_type": "text"
      },
      "source": [
        "## Part 1 - Data Preprocessing"
      ]
    },
    {
      "cell_type": "markdown",
      "metadata": {
        "id": "cKWAkFVGUU0Z",
        "colab_type": "text"
      },
      "source": [
        "### Importing the dataset"
      ]
    },
    {
      "cell_type": "code",
      "metadata": {
        "id": "MXUkhkMfU4wq",
        "colab_type": "code",
        "colab": {}
      },
      "source": [
        "dataset = pd.read_csv('tic-tac-toe.csv')\n",
        "X = dataset.iloc[:, :-1].values\n",
        "y = dataset.iloc[:, -1].values"
      ],
      "execution_count": 24,
      "outputs": []
    },
    {
      "cell_type": "code",
      "metadata": {
        "id": "VYP9cQTWbzuI",
        "colab_type": "code",
        "colab": {
          "base_uri": "https://localhost:8080/",
          "height": 145
        },
        "outputId": "60cee161-1011-4f9d-ec6c-4535205a741b"
      },
      "source": [
        "print(X)"
      ],
      "execution_count": 25,
      "outputs": [
        {
          "output_type": "stream",
          "text": [
            "[['x' 'x' 'x' ... 'x' 'o' 'o']\n",
            " ['x' 'x' 'x' ... 'o' 'x' 'o']\n",
            " ['x' 'x' 'x' ... 'o' 'o' 'x']\n",
            " ...\n",
            " ['o' 'x' 'o' ... 'x' 'o' 'x']\n",
            " ['o' 'x' 'o' ... 'x' 'o' 'x']\n",
            " ['o' 'o' 'x' ... 'o' 'x' 'x']]\n"
          ],
          "name": "stdout"
        }
      ]
    },
    {
      "cell_type": "code",
      "metadata": {
        "id": "38vKGE6Nb2RR",
        "colab_type": "code",
        "colab": {
          "base_uri": "https://localhost:8080/",
          "height": 1000
        },
        "outputId": "017acb0a-f2c9-4cf3-8cc7-8f7aebe098e0"
      },
      "source": [
        "print(y)"
      ],
      "execution_count": 26,
      "outputs": [
        {
          "output_type": "stream",
          "text": [
            "['positive' 'positive' 'positive' 'positive' 'positive' 'positive'\n",
            " 'positive' 'positive' 'positive' 'positive' 'positive' 'positive'\n",
            " 'positive' 'positive' 'positive' 'positive' 'positive' 'positive'\n",
            " 'positive' 'positive' 'positive' 'positive' 'positive' 'positive'\n",
            " 'positive' 'positive' 'positive' 'positive' 'positive' 'positive'\n",
            " 'positive' 'positive' 'positive' 'positive' 'positive' 'positive'\n",
            " 'positive' 'positive' 'positive' 'positive' 'positive' 'positive'\n",
            " 'positive' 'positive' 'positive' 'positive' 'positive' 'positive'\n",
            " 'positive' 'positive' 'positive' 'positive' 'positive' 'positive'\n",
            " 'positive' 'positive' 'positive' 'positive' 'positive' 'positive'\n",
            " 'positive' 'positive' 'positive' 'positive' 'positive' 'positive'\n",
            " 'positive' 'positive' 'positive' 'positive' 'positive' 'positive'\n",
            " 'positive' 'positive' 'positive' 'positive' 'positive' 'positive'\n",
            " 'positive' 'positive' 'positive' 'positive' 'positive' 'positive'\n",
            " 'positive' 'positive' 'positive' 'positive' 'positive' 'positive'\n",
            " 'positive' 'positive' 'positive' 'positive' 'positive' 'positive'\n",
            " 'positive' 'positive' 'positive' 'positive' 'positive' 'positive'\n",
            " 'positive' 'positive' 'positive' 'positive' 'positive' 'positive'\n",
            " 'positive' 'positive' 'positive' 'positive' 'positive' 'positive'\n",
            " 'positive' 'positive' 'positive' 'positive' 'positive' 'positive'\n",
            " 'positive' 'positive' 'positive' 'positive' 'positive' 'positive'\n",
            " 'positive' 'positive' 'positive' 'positive' 'positive' 'positive'\n",
            " 'positive' 'positive' 'positive' 'positive' 'positive' 'positive'\n",
            " 'positive' 'positive' 'positive' 'positive' 'positive' 'positive'\n",
            " 'positive' 'positive' 'positive' 'positive' 'positive' 'positive'\n",
            " 'positive' 'positive' 'positive' 'positive' 'positive' 'positive'\n",
            " 'positive' 'positive' 'positive' 'positive' 'positive' 'positive'\n",
            " 'positive' 'positive' 'positive' 'positive' 'positive' 'positive'\n",
            " 'positive' 'positive' 'positive' 'positive' 'positive' 'positive'\n",
            " 'positive' 'positive' 'positive' 'positive' 'positive' 'positive'\n",
            " 'positive' 'positive' 'positive' 'positive' 'positive' 'positive'\n",
            " 'positive' 'positive' 'positive' 'positive' 'positive' 'positive'\n",
            " 'positive' 'positive' 'positive' 'positive' 'positive' 'positive'\n",
            " 'positive' 'positive' 'positive' 'positive' 'positive' 'positive'\n",
            " 'positive' 'positive' 'positive' 'positive' 'positive' 'positive'\n",
            " 'positive' 'positive' 'positive' 'positive' 'positive' 'positive'\n",
            " 'positive' 'positive' 'positive' 'positive' 'positive' 'positive'\n",
            " 'positive' 'positive' 'positive' 'positive' 'positive' 'positive'\n",
            " 'positive' 'positive' 'positive' 'positive' 'positive' 'positive'\n",
            " 'positive' 'positive' 'positive' 'positive' 'positive' 'positive'\n",
            " 'positive' 'positive' 'positive' 'positive' 'positive' 'positive'\n",
            " 'positive' 'positive' 'positive' 'positive' 'positive' 'positive'\n",
            " 'positive' 'positive' 'positive' 'positive' 'positive' 'positive'\n",
            " 'positive' 'positive' 'positive' 'positive' 'positive' 'positive'\n",
            " 'positive' 'positive' 'positive' 'positive' 'positive' 'positive'\n",
            " 'positive' 'positive' 'positive' 'positive' 'positive' 'positive'\n",
            " 'positive' 'positive' 'positive' 'positive' 'positive' 'positive'\n",
            " 'positive' 'positive' 'positive' 'positive' 'positive' 'positive'\n",
            " 'positive' 'positive' 'positive' 'positive' 'positive' 'positive'\n",
            " 'positive' 'positive' 'positive' 'positive' 'positive' 'positive'\n",
            " 'positive' 'positive' 'positive' 'positive' 'positive' 'positive'\n",
            " 'positive' 'positive' 'positive' 'positive' 'positive' 'positive'\n",
            " 'positive' 'positive' 'positive' 'positive' 'positive' 'positive'\n",
            " 'positive' 'positive' 'positive' 'positive' 'positive' 'positive'\n",
            " 'positive' 'positive' 'positive' 'positive' 'positive' 'positive'\n",
            " 'positive' 'positive' 'positive' 'positive' 'positive' 'positive'\n",
            " 'positive' 'positive' 'positive' 'positive' 'positive' 'positive'\n",
            " 'positive' 'positive' 'positive' 'positive' 'positive' 'positive'\n",
            " 'positive' 'positive' 'positive' 'positive' 'positive' 'positive'\n",
            " 'positive' 'positive' 'positive' 'positive' 'positive' 'positive'\n",
            " 'positive' 'positive' 'positive' 'positive' 'positive' 'positive'\n",
            " 'positive' 'positive' 'positive' 'positive' 'positive' 'positive'\n",
            " 'positive' 'positive' 'positive' 'positive' 'positive' 'positive'\n",
            " 'positive' 'positive' 'positive' 'positive' 'positive' 'positive'\n",
            " 'positive' 'positive' 'positive' 'positive' 'positive' 'positive'\n",
            " 'positive' 'positive' 'positive' 'positive' 'positive' 'positive'\n",
            " 'positive' 'positive' 'positive' 'positive' 'positive' 'positive'\n",
            " 'positive' 'positive' 'positive' 'positive' 'positive' 'positive'\n",
            " 'positive' 'positive' 'positive' 'positive' 'positive' 'positive'\n",
            " 'positive' 'positive' 'positive' 'positive' 'positive' 'positive'\n",
            " 'positive' 'positive' 'positive' 'positive' 'positive' 'positive'\n",
            " 'positive' 'positive' 'positive' 'positive' 'positive' 'positive'\n",
            " 'positive' 'positive' 'positive' 'positive' 'positive' 'positive'\n",
            " 'positive' 'positive' 'positive' 'positive' 'positive' 'positive'\n",
            " 'positive' 'positive' 'positive' 'positive' 'positive' 'positive'\n",
            " 'positive' 'positive' 'positive' 'positive' 'positive' 'positive'\n",
            " 'positive' 'positive' 'positive' 'positive' 'positive' 'positive'\n",
            " 'positive' 'positive' 'positive' 'positive' 'positive' 'positive'\n",
            " 'positive' 'positive' 'positive' 'positive' 'positive' 'positive'\n",
            " 'positive' 'positive' 'positive' 'positive' 'positive' 'positive'\n",
            " 'positive' 'positive' 'positive' 'positive' 'positive' 'positive'\n",
            " 'positive' 'positive' 'positive' 'positive' 'positive' 'positive'\n",
            " 'positive' 'positive' 'positive' 'positive' 'positive' 'positive'\n",
            " 'positive' 'positive' 'positive' 'positive' 'positive' 'positive'\n",
            " 'positive' 'positive' 'positive' 'positive' 'positive' 'positive'\n",
            " 'positive' 'positive' 'positive' 'positive' 'positive' 'positive'\n",
            " 'positive' 'positive' 'positive' 'positive' 'positive' 'positive'\n",
            " 'positive' 'positive' 'positive' 'positive' 'positive' 'positive'\n",
            " 'positive' 'positive' 'positive' 'positive' 'positive' 'positive'\n",
            " 'positive' 'positive' 'positive' 'positive' 'positive' 'positive'\n",
            " 'positive' 'positive' 'positive' 'positive' 'positive' 'positive'\n",
            " 'positive' 'positive' 'positive' 'positive' 'positive' 'positive'\n",
            " 'positive' 'positive' 'positive' 'positive' 'positive' 'positive'\n",
            " 'positive' 'positive' 'positive' 'positive' 'positive' 'positive'\n",
            " 'positive' 'positive' 'positive' 'positive' 'positive' 'positive'\n",
            " 'positive' 'positive' 'positive' 'positive' 'positive' 'positive'\n",
            " 'positive' 'positive' 'positive' 'positive' 'positive' 'positive'\n",
            " 'positive' 'positive' 'positive' 'positive' 'positive' 'positive'\n",
            " 'positive' 'positive' 'positive' 'positive' 'positive' 'positive'\n",
            " 'positive' 'positive' 'positive' 'positive' 'positive' 'positive'\n",
            " 'positive' 'positive' 'positive' 'positive' 'positive' 'positive'\n",
            " 'positive' 'positive' 'positive' 'positive' 'positive' 'positive'\n",
            " 'positive' 'positive' 'positive' 'positive' 'positive' 'positive'\n",
            " 'positive' 'positive' 'positive' 'positive' 'positive' 'positive'\n",
            " 'positive' 'positive' 'negative' 'negative' 'negative' 'negative'\n",
            " 'negative' 'negative' 'negative' 'negative' 'negative' 'negative'\n",
            " 'negative' 'negative' 'negative' 'negative' 'negative' 'negative'\n",
            " 'negative' 'negative' 'negative' 'negative' 'negative' 'negative'\n",
            " 'negative' 'negative' 'negative' 'negative' 'negative' 'negative'\n",
            " 'negative' 'negative' 'negative' 'negative' 'negative' 'negative'\n",
            " 'negative' 'negative' 'negative' 'negative' 'negative' 'negative'\n",
            " 'negative' 'negative' 'negative' 'negative' 'negative' 'negative'\n",
            " 'negative' 'negative' 'negative' 'negative' 'negative' 'negative'\n",
            " 'negative' 'negative' 'negative' 'negative' 'negative' 'negative'\n",
            " 'negative' 'negative' 'negative' 'negative' 'negative' 'negative'\n",
            " 'negative' 'negative' 'negative' 'negative' 'negative' 'negative'\n",
            " 'negative' 'negative' 'negative' 'negative' 'negative' 'negative'\n",
            " 'negative' 'negative' 'negative' 'negative' 'negative' 'negative'\n",
            " 'negative' 'negative' 'negative' 'negative' 'negative' 'negative'\n",
            " 'negative' 'negative' 'negative' 'negative' 'negative' 'negative'\n",
            " 'negative' 'negative' 'negative' 'negative' 'negative' 'negative'\n",
            " 'negative' 'negative' 'negative' 'negative' 'negative' 'negative'\n",
            " 'negative' 'negative' 'negative' 'negative' 'negative' 'negative'\n",
            " 'negative' 'negative' 'negative' 'negative' 'negative' 'negative'\n",
            " 'negative' 'negative' 'negative' 'negative' 'negative' 'negative'\n",
            " 'negative' 'negative' 'negative' 'negative' 'negative' 'negative'\n",
            " 'negative' 'negative' 'negative' 'negative' 'negative' 'negative'\n",
            " 'negative' 'negative' 'negative' 'negative' 'negative' 'negative'\n",
            " 'negative' 'negative' 'negative' 'negative' 'negative' 'negative'\n",
            " 'negative' 'negative' 'negative' 'negative' 'negative' 'negative'\n",
            " 'negative' 'negative' 'negative' 'negative' 'negative' 'negative'\n",
            " 'negative' 'negative' 'negative' 'negative' 'negative' 'negative'\n",
            " 'negative' 'negative' 'negative' 'negative' 'negative' 'negative'\n",
            " 'negative' 'negative' 'negative' 'negative' 'negative' 'negative'\n",
            " 'negative' 'negative' 'negative' 'negative' 'negative' 'negative'\n",
            " 'negative' 'negative' 'negative' 'negative' 'negative' 'negative'\n",
            " 'negative' 'negative' 'negative' 'negative' 'negative' 'negative'\n",
            " 'negative' 'negative' 'negative' 'negative' 'negative' 'negative'\n",
            " 'negative' 'negative' 'negative' 'negative' 'negative' 'negative'\n",
            " 'negative' 'negative' 'negative' 'negative' 'negative' 'negative'\n",
            " 'negative' 'negative' 'negative' 'negative' 'negative' 'negative'\n",
            " 'negative' 'negative' 'negative' 'negative' 'negative' 'negative'\n",
            " 'negative' 'negative' 'negative' 'negative' 'negative' 'negative'\n",
            " 'negative' 'negative' 'negative' 'negative' 'negative' 'negative'\n",
            " 'negative' 'negative' 'negative' 'negative' 'negative' 'negative'\n",
            " 'negative' 'negative' 'negative' 'negative' 'negative' 'negative'\n",
            " 'negative' 'negative' 'negative' 'negative' 'negative' 'negative'\n",
            " 'negative' 'negative' 'negative' 'negative' 'negative' 'negative'\n",
            " 'negative' 'negative' 'negative' 'negative' 'negative' 'negative'\n",
            " 'negative' 'negative' 'negative' 'negative' 'negative' 'negative'\n",
            " 'negative' 'negative' 'negative' 'negative' 'negative' 'negative'\n",
            " 'negative' 'negative' 'negative' 'negative' 'negative' 'negative'\n",
            " 'negative' 'negative' 'negative' 'negative' 'negative' 'negative'\n",
            " 'negative' 'negative' 'negative' 'negative' 'negative' 'negative'\n",
            " 'negative' 'negative' 'negative' 'negative' 'negative' 'negative'\n",
            " 'negative' 'negative' 'negative' 'negative' 'negative' 'negative'\n",
            " 'negative' 'negative' 'negative' 'negative' 'negative' 'negative'\n",
            " 'negative' 'negative' 'negative' 'negative' 'negative' 'negative'\n",
            " 'negative' 'negative' 'negative' 'negative' 'negative' 'negative'\n",
            " 'negative' 'negative' 'negative' 'negative']\n"
          ],
          "name": "stdout"
        }
      ]
    },
    {
      "cell_type": "markdown",
      "metadata": {
        "id": "N6bQ0UgSU-NJ",
        "colab_type": "text"
      },
      "source": [
        "### Encoding categorical data"
      ]
    },
    {
      "cell_type": "markdown",
      "metadata": {
        "id": "le5MJreAbW52",
        "colab_type": "text"
      },
      "source": [
        "Label Encoding the class (\"positive / negative\") column"
      ]
    },
    {
      "cell_type": "code",
      "metadata": {
        "id": "PxVKWXxLbczC",
        "colab_type": "code",
        "colab": {}
      },
      "source": [
        "from sklearn.preprocessing import LabelEncoder\n",
        "le = LabelEncoder()\n",
        "y = le.fit_transform(y)"
      ],
      "execution_count": 27,
      "outputs": []
    },
    {
      "cell_type": "code",
      "metadata": {
        "id": "G5v6v3mjrpYU",
        "colab_type": "code",
        "colab": {
          "base_uri": "https://localhost:8080/",
          "height": 490
        },
        "outputId": "e6dc927d-bbab-4111-8125-2cab6afa1516"
      },
      "source": [
        "print(y)"
      ],
      "execution_count": 28,
      "outputs": [
        {
          "output_type": "stream",
          "text": [
            "[1 1 1 1 1 1 1 1 1 1 1 1 1 1 1 1 1 1 1 1 1 1 1 1 1 1 1 1 1 1 1 1 1 1 1 1 1\n",
            " 1 1 1 1 1 1 1 1 1 1 1 1 1 1 1 1 1 1 1 1 1 1 1 1 1 1 1 1 1 1 1 1 1 1 1 1 1\n",
            " 1 1 1 1 1 1 1 1 1 1 1 1 1 1 1 1 1 1 1 1 1 1 1 1 1 1 1 1 1 1 1 1 1 1 1 1 1\n",
            " 1 1 1 1 1 1 1 1 1 1 1 1 1 1 1 1 1 1 1 1 1 1 1 1 1 1 1 1 1 1 1 1 1 1 1 1 1\n",
            " 1 1 1 1 1 1 1 1 1 1 1 1 1 1 1 1 1 1 1 1 1 1 1 1 1 1 1 1 1 1 1 1 1 1 1 1 1\n",
            " 1 1 1 1 1 1 1 1 1 1 1 1 1 1 1 1 1 1 1 1 1 1 1 1 1 1 1 1 1 1 1 1 1 1 1 1 1\n",
            " 1 1 1 1 1 1 1 1 1 1 1 1 1 1 1 1 1 1 1 1 1 1 1 1 1 1 1 1 1 1 1 1 1 1 1 1 1\n",
            " 1 1 1 1 1 1 1 1 1 1 1 1 1 1 1 1 1 1 1 1 1 1 1 1 1 1 1 1 1 1 1 1 1 1 1 1 1\n",
            " 1 1 1 1 1 1 1 1 1 1 1 1 1 1 1 1 1 1 1 1 1 1 1 1 1 1 1 1 1 1 1 1 1 1 1 1 1\n",
            " 1 1 1 1 1 1 1 1 1 1 1 1 1 1 1 1 1 1 1 1 1 1 1 1 1 1 1 1 1 1 1 1 1 1 1 1 1\n",
            " 1 1 1 1 1 1 1 1 1 1 1 1 1 1 1 1 1 1 1 1 1 1 1 1 1 1 1 1 1 1 1 1 1 1 1 1 1\n",
            " 1 1 1 1 1 1 1 1 1 1 1 1 1 1 1 1 1 1 1 1 1 1 1 1 1 1 1 1 1 1 1 1 1 1 1 1 1\n",
            " 1 1 1 1 1 1 1 1 1 1 1 1 1 1 1 1 1 1 1 1 1 1 1 1 1 1 1 1 1 1 1 1 1 1 1 1 1\n",
            " 1 1 1 1 1 1 1 1 1 1 1 1 1 1 1 1 1 1 1 1 1 1 1 1 1 1 1 1 1 1 1 1 1 1 1 1 1\n",
            " 1 1 1 1 1 1 1 1 1 1 1 1 1 1 1 1 1 1 1 1 1 1 1 1 1 1 1 1 1 1 1 1 1 1 1 1 1\n",
            " 1 1 1 1 1 1 1 1 1 1 1 1 1 1 1 1 1 1 1 1 1 1 1 1 1 1 1 1 1 1 1 1 1 1 1 1 1\n",
            " 1 1 1 1 1 1 1 1 1 1 1 1 1 1 1 1 1 1 1 1 1 1 1 1 1 1 1 1 1 1 1 1 1 1 0 0 0\n",
            " 0 0 0 0 0 0 0 0 0 0 0 0 0 0 0 0 0 0 0 0 0 0 0 0 0 0 0 0 0 0 0 0 0 0 0 0 0\n",
            " 0 0 0 0 0 0 0 0 0 0 0 0 0 0 0 0 0 0 0 0 0 0 0 0 0 0 0 0 0 0 0 0 0 0 0 0 0\n",
            " 0 0 0 0 0 0 0 0 0 0 0 0 0 0 0 0 0 0 0 0 0 0 0 0 0 0 0 0 0 0 0 0 0 0 0 0 0\n",
            " 0 0 0 0 0 0 0 0 0 0 0 0 0 0 0 0 0 0 0 0 0 0 0 0 0 0 0 0 0 0 0 0 0 0 0 0 0\n",
            " 0 0 0 0 0 0 0 0 0 0 0 0 0 0 0 0 0 0 0 0 0 0 0 0 0 0 0 0 0 0 0 0 0 0 0 0 0\n",
            " 0 0 0 0 0 0 0 0 0 0 0 0 0 0 0 0 0 0 0 0 0 0 0 0 0 0 0 0 0 0 0 0 0 0 0 0 0\n",
            " 0 0 0 0 0 0 0 0 0 0 0 0 0 0 0 0 0 0 0 0 0 0 0 0 0 0 0 0 0 0 0 0 0 0 0 0 0\n",
            " 0 0 0 0 0 0 0 0 0 0 0 0 0 0 0 0 0 0 0 0 0 0 0 0 0 0 0 0 0 0 0 0 0 0 0 0 0\n",
            " 0 0 0 0 0 0 0 0 0 0 0 0 0 0 0 0 0 0 0 0 0 0 0 0 0 0 0 0 0 0 0 0 0]\n"
          ],
          "name": "stdout"
        }
      ]
    },
    {
      "cell_type": "markdown",
      "metadata": {
        "id": "M-eE0hKDt2yW",
        "colab_type": "text"
      },
      "source": [
        "One Hot Encoding \"x, o & b\""
      ]
    },
    {
      "cell_type": "code",
      "metadata": {
        "id": "P70kqfbot4A2",
        "colab_type": "code",
        "colab": {}
      },
      "source": [
        "from sklearn.compose import ColumnTransformer\n",
        "from sklearn.preprocessing import OneHotEncoder\n",
        "ct = ColumnTransformer(transformers=[('encoder', OneHotEncoder(), [0, 1, 2, 3, 4, 5, 6, 7, 8])], remainder='passthrough')\n",
        "X = np.array(ct.fit_transform(X))"
      ],
      "execution_count": 29,
      "outputs": []
    },
    {
      "cell_type": "code",
      "metadata": {
        "id": "psfUW8Dkt9mL",
        "colab_type": "code",
        "colab": {
          "base_uri": "https://localhost:8080/",
          "height": 145
        },
        "outputId": "28b07041-c288-4967-ffde-191748affa5b"
      },
      "source": [
        "print(X)"
      ],
      "execution_count": 30,
      "outputs": [
        {
          "output_type": "stream",
          "text": [
            "[[0. 0. 1. ... 0. 1. 0.]\n",
            " [0. 0. 1. ... 0. 1. 0.]\n",
            " [0. 0. 1. ... 0. 0. 1.]\n",
            " ...\n",
            " [0. 1. 0. ... 0. 0. 1.]\n",
            " [0. 1. 0. ... 0. 0. 1.]\n",
            " [0. 1. 0. ... 0. 0. 1.]]\n"
          ],
          "name": "stdout"
        }
      ]
    },
    {
      "cell_type": "markdown",
      "metadata": {
        "id": "vHol938cW8zd",
        "colab_type": "text"
      },
      "source": [
        "### Splitting the dataset into the Training set and Test set"
      ]
    },
    {
      "cell_type": "code",
      "metadata": {
        "id": "Z-TDt0Y_XEfc",
        "colab_type": "code",
        "colab": {}
      },
      "source": [
        "from sklearn.model_selection import train_test_split\n",
        "X_train, X_test, y_train, y_test = train_test_split(X, y, test_size = 0.2, random_state = 0)"
      ],
      "execution_count": 31,
      "outputs": []
    },
    {
      "cell_type": "markdown",
      "metadata": {
        "id": "RE_FcHyfV3TQ",
        "colab_type": "text"
      },
      "source": [
        "### Feature Scaling"
      ]
    },
    {
      "cell_type": "code",
      "metadata": {
        "id": "ViCrE00rV8Sk",
        "colab_type": "code",
        "colab": {}
      },
      "source": [
        "from sklearn.preprocessing import StandardScaler\n",
        "sc = StandardScaler()\n",
        "X_train = sc.fit_transform(X_train)\n",
        "X_test = sc.transform(X_test)"
      ],
      "execution_count": 32,
      "outputs": []
    },
    {
      "cell_type": "code",
      "metadata": {
        "id": "rWd5sUpL0qBx",
        "colab_type": "code",
        "colab": {
          "base_uri": "https://localhost:8080/",
          "height": 254
        },
        "outputId": "ed77b392-780e-4da7-ec96-7756a6eab63d"
      },
      "source": [
        "print(X_train)"
      ],
      "execution_count": 33,
      "outputs": [
        {
          "output_type": "stream",
          "text": [
            "[[-0.52599113  1.40731828 -0.90048582 ...  1.91591537 -0.72728407\n",
            "  -0.88631134]\n",
            " [ 1.90117275 -0.71057131 -0.90048582 ... -0.52194372  1.37497856\n",
            "  -0.88631134]\n",
            " [-0.52599113 -0.71057131  1.11051166 ...  1.91591537 -0.72728407\n",
            "  -0.88631134]\n",
            " ...\n",
            " [-0.52599113 -0.71057131  1.11051166 ...  1.91591537 -0.72728407\n",
            "  -0.88631134]\n",
            " [ 1.90117275 -0.71057131 -0.90048582 ... -0.52194372 -0.72728407\n",
            "   1.1282717 ]\n",
            " [-0.52599113 -0.71057131  1.11051166 ... -0.52194372  1.37497856\n",
            "  -0.88631134]]\n"
          ],
          "name": "stdout"
        }
      ]
    },
    {
      "cell_type": "code",
      "metadata": {
        "id": "5TohCKTY0twY",
        "colab_type": "code",
        "colab": {
          "base_uri": "https://localhost:8080/",
          "height": 254
        },
        "outputId": "8f82a059-b158-4b4c-f397-d5e81ccaaf70"
      },
      "source": [
        "print(X_test)"
      ],
      "execution_count": 34,
      "outputs": [
        {
          "output_type": "stream",
          "text": [
            "[[ 1.90117275 -0.71057131 -0.90048582 ... -0.52194372  1.37497856\n",
            "  -0.88631134]\n",
            " [ 1.90117275 -0.71057131 -0.90048582 ...  1.91591537 -0.72728407\n",
            "  -0.88631134]\n",
            " [-0.52599113 -0.71057131  1.11051166 ... -0.52194372 -0.72728407\n",
            "   1.1282717 ]\n",
            " ...\n",
            " [-0.52599113  1.40731828 -0.90048582 ... -0.52194372 -0.72728407\n",
            "   1.1282717 ]\n",
            " [ 1.90117275 -0.71057131 -0.90048582 ... -0.52194372  1.37497856\n",
            "  -0.88631134]\n",
            " [-0.52599113  1.40731828 -0.90048582 ...  1.91591537 -0.72728407\n",
            "  -0.88631134]]\n"
          ],
          "name": "stdout"
        }
      ]
    },
    {
      "cell_type": "markdown",
      "metadata": {
        "id": "-zfEzkRVXIwF",
        "colab_type": "text"
      },
      "source": [
        "## Part 2 - Building the ANN"
      ]
    },
    {
      "cell_type": "markdown",
      "metadata": {
        "id": "KvdeScabXtlB",
        "colab_type": "text"
      },
      "source": [
        "### Initializing the ANN"
      ]
    },
    {
      "cell_type": "code",
      "metadata": {
        "id": "3dtrScHxXQox",
        "colab_type": "code",
        "colab": {}
      },
      "source": [
        "ann = tf.keras.models.Sequential()"
      ],
      "execution_count": 35,
      "outputs": []
    },
    {
      "cell_type": "markdown",
      "metadata": {
        "id": "rP6urV6SX7kS",
        "colab_type": "text"
      },
      "source": [
        "### Adding the input layer and the first hidden layer"
      ]
    },
    {
      "cell_type": "code",
      "metadata": {
        "id": "bppGycBXYCQr",
        "colab_type": "code",
        "colab": {}
      },
      "source": [
        "ann.add(tf.keras.layers.Dense(units=8, activation='relu'))"
      ],
      "execution_count": 36,
      "outputs": []
    },
    {
      "cell_type": "markdown",
      "metadata": {
        "id": "BELWAc_8YJze",
        "colab_type": "text"
      },
      "source": [
        "### Adding the second hidden layer"
      ]
    },
    {
      "cell_type": "code",
      "metadata": {
        "id": "JneR0u0sYRTd",
        "colab_type": "code",
        "colab": {}
      },
      "source": [
        "ann.add(tf.keras.layers.Dense(units=8, activation='relu'))"
      ],
      "execution_count": 37,
      "outputs": []
    },
    {
      "cell_type": "markdown",
      "metadata": {
        "id": "OyNEe6RXYcU4",
        "colab_type": "text"
      },
      "source": [
        "### Adding the output layer"
      ]
    },
    {
      "cell_type": "code",
      "metadata": {
        "id": "Cn3x41RBYfvY",
        "colab_type": "code",
        "colab": {}
      },
      "source": [
        "ann.add(tf.keras.layers.Dense(units=1, activation='sigmoid'))"
      ],
      "execution_count": 38,
      "outputs": []
    },
    {
      "cell_type": "markdown",
      "metadata": {
        "id": "JT4u2S1_Y4WG",
        "colab_type": "text"
      },
      "source": [
        "## Part 3 - Training the ANN"
      ]
    },
    {
      "cell_type": "markdown",
      "metadata": {
        "id": "8GWlJChhY_ZI",
        "colab_type": "text"
      },
      "source": [
        "### Compiling the ANN"
      ]
    },
    {
      "cell_type": "code",
      "metadata": {
        "id": "fG3RrwDXZEaS",
        "colab_type": "code",
        "colab": {}
      },
      "source": [
        "ann.compile(optimizer = 'adam', loss = 'binary_crossentropy', metrics = ['accuracy'])"
      ],
      "execution_count": 39,
      "outputs": []
    },
    {
      "cell_type": "markdown",
      "metadata": {
        "id": "0QR_G5u7ZLSM",
        "colab_type": "text"
      },
      "source": [
        "### Training the ANN on the Training set"
      ]
    },
    {
      "cell_type": "code",
      "metadata": {
        "id": "nHZ-LKv_ZRb3",
        "colab_type": "code",
        "colab": {
          "base_uri": "https://localhost:8080/",
          "height": 1000
        },
        "outputId": "3ed4b5dd-432b-40dc-cef1-3d8ab68564da"
      },
      "source": [
        "ann.fit(X_train, y_train, batch_size = 22, epochs = 100)"
      ],
      "execution_count": 40,
      "outputs": [
        {
          "output_type": "stream",
          "text": [
            "Epoch 1/100\n",
            "35/35 [==============================] - 0s 902us/step - loss: 0.7824 - accuracy: 0.4843\n",
            "Epoch 2/100\n",
            "35/35 [==============================] - 0s 838us/step - loss: 0.6770 - accuracy: 0.5679\n",
            "Epoch 3/100\n",
            "35/35 [==============================] - 0s 860us/step - loss: 0.6283 - accuracy: 0.6214\n",
            "Epoch 4/100\n",
            "35/35 [==============================] - 0s 898us/step - loss: 0.5997 - accuracy: 0.6527\n",
            "Epoch 5/100\n",
            "35/35 [==============================] - 0s 917us/step - loss: 0.5785 - accuracy: 0.6684\n",
            "Epoch 6/100\n",
            "35/35 [==============================] - 0s 875us/step - loss: 0.5597 - accuracy: 0.6789\n",
            "Epoch 7/100\n",
            "35/35 [==============================] - 0s 879us/step - loss: 0.5425 - accuracy: 0.6854\n",
            "Epoch 8/100\n",
            "35/35 [==============================] - 0s 920us/step - loss: 0.5269 - accuracy: 0.7063\n",
            "Epoch 9/100\n",
            "35/35 [==============================] - 0s 956us/step - loss: 0.5109 - accuracy: 0.7311\n",
            "Epoch 10/100\n",
            "35/35 [==============================] - 0s 956us/step - loss: 0.4970 - accuracy: 0.7467\n",
            "Epoch 11/100\n",
            "35/35 [==============================] - 0s 954us/step - loss: 0.4825 - accuracy: 0.7520\n",
            "Epoch 12/100\n",
            "35/35 [==============================] - 0s 873us/step - loss: 0.4689 - accuracy: 0.7585\n",
            "Epoch 13/100\n",
            "35/35 [==============================] - 0s 846us/step - loss: 0.4569 - accuracy: 0.7598\n",
            "Epoch 14/100\n",
            "35/35 [==============================] - 0s 836us/step - loss: 0.4439 - accuracy: 0.7768\n",
            "Epoch 15/100\n",
            "35/35 [==============================] - 0s 856us/step - loss: 0.4298 - accuracy: 0.7807\n",
            "Epoch 16/100\n",
            "35/35 [==============================] - 0s 855us/step - loss: 0.4162 - accuracy: 0.7898\n",
            "Epoch 17/100\n",
            "35/35 [==============================] - 0s 1ms/step - loss: 0.4037 - accuracy: 0.8003\n",
            "Epoch 18/100\n",
            "35/35 [==============================] - 0s 903us/step - loss: 0.3875 - accuracy: 0.8172\n",
            "Epoch 19/100\n",
            "35/35 [==============================] - 0s 842us/step - loss: 0.3727 - accuracy: 0.8264\n",
            "Epoch 20/100\n",
            "35/35 [==============================] - 0s 839us/step - loss: 0.3581 - accuracy: 0.8420\n",
            "Epoch 21/100\n",
            "35/35 [==============================] - 0s 829us/step - loss: 0.3429 - accuracy: 0.8512\n",
            "Epoch 22/100\n",
            "35/35 [==============================] - 0s 887us/step - loss: 0.3278 - accuracy: 0.8655\n",
            "Epoch 23/100\n",
            "35/35 [==============================] - 0s 937us/step - loss: 0.3125 - accuracy: 0.8721\n",
            "Epoch 24/100\n",
            "35/35 [==============================] - 0s 965us/step - loss: 0.2956 - accuracy: 0.8851\n",
            "Epoch 25/100\n",
            "35/35 [==============================] - 0s 1ms/step - loss: 0.2787 - accuracy: 0.8943\n",
            "Epoch 26/100\n",
            "35/35 [==============================] - 0s 919us/step - loss: 0.2588 - accuracy: 0.9073\n",
            "Epoch 27/100\n",
            "35/35 [==============================] - 0s 870us/step - loss: 0.2406 - accuracy: 0.9256\n",
            "Epoch 28/100\n",
            "35/35 [==============================] - 0s 894us/step - loss: 0.2207 - accuracy: 0.9295\n",
            "Epoch 29/100\n",
            "35/35 [==============================] - 0s 858us/step - loss: 0.2020 - accuracy: 0.9399\n",
            "Epoch 30/100\n",
            "35/35 [==============================] - 0s 912us/step - loss: 0.1821 - accuracy: 0.9543\n",
            "Epoch 31/100\n",
            "35/35 [==============================] - 0s 905us/step - loss: 0.1639 - accuracy: 0.9661\n",
            "Epoch 32/100\n",
            "35/35 [==============================] - 0s 967us/step - loss: 0.1468 - accuracy: 0.9726\n",
            "Epoch 33/100\n",
            "35/35 [==============================] - 0s 880us/step - loss: 0.1320 - accuracy: 0.9739\n",
            "Epoch 34/100\n",
            "35/35 [==============================] - 0s 888us/step - loss: 0.1194 - accuracy: 0.9778\n",
            "Epoch 35/100\n",
            "35/35 [==============================] - 0s 1ms/step - loss: 0.1076 - accuracy: 0.9804\n",
            "Epoch 36/100\n",
            "35/35 [==============================] - 0s 926us/step - loss: 0.0983 - accuracy: 0.9804\n",
            "Epoch 37/100\n",
            "35/35 [==============================] - 0s 857us/step - loss: 0.0891 - accuracy: 0.9804\n",
            "Epoch 38/100\n",
            "35/35 [==============================] - 0s 853us/step - loss: 0.0813 - accuracy: 0.9830\n",
            "Epoch 39/100\n",
            "35/35 [==============================] - 0s 816us/step - loss: 0.0751 - accuracy: 0.9830\n",
            "Epoch 40/100\n",
            "35/35 [==============================] - 0s 837us/step - loss: 0.0689 - accuracy: 0.9843\n",
            "Epoch 41/100\n",
            "35/35 [==============================] - 0s 902us/step - loss: 0.0643 - accuracy: 0.9843\n",
            "Epoch 42/100\n",
            "35/35 [==============================] - 0s 843us/step - loss: 0.0600 - accuracy: 0.9883\n",
            "Epoch 43/100\n",
            "35/35 [==============================] - 0s 911us/step - loss: 0.0557 - accuracy: 0.9883\n",
            "Epoch 44/100\n",
            "35/35 [==============================] - 0s 841us/step - loss: 0.0516 - accuracy: 0.9869\n",
            "Epoch 45/100\n",
            "35/35 [==============================] - 0s 929us/step - loss: 0.0482 - accuracy: 0.9883\n",
            "Epoch 46/100\n",
            "35/35 [==============================] - 0s 1ms/step - loss: 0.0458 - accuracy: 0.9883\n",
            "Epoch 47/100\n",
            "35/35 [==============================] - 0s 896us/step - loss: 0.0440 - accuracy: 0.9935\n",
            "Epoch 48/100\n",
            "35/35 [==============================] - 0s 1ms/step - loss: 0.0400 - accuracy: 0.9935\n",
            "Epoch 49/100\n",
            "35/35 [==============================] - 0s 828us/step - loss: 0.0386 - accuracy: 0.9922\n",
            "Epoch 50/100\n",
            "35/35 [==============================] - 0s 927us/step - loss: 0.0370 - accuracy: 0.9922\n",
            "Epoch 51/100\n",
            "35/35 [==============================] - 0s 905us/step - loss: 0.0347 - accuracy: 0.9948\n",
            "Epoch 52/100\n",
            "35/35 [==============================] - 0s 1ms/step - loss: 0.0333 - accuracy: 0.9922\n",
            "Epoch 53/100\n",
            "35/35 [==============================] - 0s 909us/step - loss: 0.0320 - accuracy: 0.9948\n",
            "Epoch 54/100\n",
            "35/35 [==============================] - 0s 900us/step - loss: 0.0302 - accuracy: 0.9948\n",
            "Epoch 55/100\n",
            "35/35 [==============================] - 0s 887us/step - loss: 0.0289 - accuracy: 0.9961\n",
            "Epoch 56/100\n",
            "35/35 [==============================] - 0s 915us/step - loss: 0.0274 - accuracy: 0.9948\n",
            "Epoch 57/100\n",
            "35/35 [==============================] - 0s 885us/step - loss: 0.0259 - accuracy: 0.9948\n",
            "Epoch 58/100\n",
            "35/35 [==============================] - 0s 1ms/step - loss: 0.0253 - accuracy: 0.9961\n",
            "Epoch 59/100\n",
            "35/35 [==============================] - 0s 906us/step - loss: 0.0240 - accuracy: 0.9948\n",
            "Epoch 60/100\n",
            "35/35 [==============================] - 0s 839us/step - loss: 0.0229 - accuracy: 0.9948\n",
            "Epoch 61/100\n",
            "35/35 [==============================] - 0s 948us/step - loss: 0.0220 - accuracy: 0.9961\n",
            "Epoch 62/100\n",
            "35/35 [==============================] - 0s 867us/step - loss: 0.0208 - accuracy: 0.9987\n",
            "Epoch 63/100\n",
            "35/35 [==============================] - 0s 880us/step - loss: 0.0201 - accuracy: 0.9961\n",
            "Epoch 64/100\n",
            "35/35 [==============================] - 0s 846us/step - loss: 0.0193 - accuracy: 1.0000\n",
            "Epoch 65/100\n",
            "35/35 [==============================] - 0s 867us/step - loss: 0.0182 - accuracy: 0.9987\n",
            "Epoch 66/100\n",
            "35/35 [==============================] - 0s 912us/step - loss: 0.0182 - accuracy: 0.9974\n",
            "Epoch 67/100\n",
            "35/35 [==============================] - 0s 960us/step - loss: 0.0170 - accuracy: 0.9974\n",
            "Epoch 68/100\n",
            "35/35 [==============================] - 0s 1ms/step - loss: 0.0162 - accuracy: 0.9987\n",
            "Epoch 69/100\n",
            "35/35 [==============================] - 0s 967us/step - loss: 0.0155 - accuracy: 0.9987\n",
            "Epoch 70/100\n",
            "35/35 [==============================] - 0s 927us/step - loss: 0.0154 - accuracy: 1.0000\n",
            "Epoch 71/100\n",
            "35/35 [==============================] - 0s 905us/step - loss: 0.0144 - accuracy: 1.0000\n",
            "Epoch 72/100\n",
            "35/35 [==============================] - 0s 905us/step - loss: 0.0140 - accuracy: 0.9987\n",
            "Epoch 73/100\n",
            "35/35 [==============================] - 0s 903us/step - loss: 0.0135 - accuracy: 1.0000\n",
            "Epoch 74/100\n",
            "35/35 [==============================] - 0s 863us/step - loss: 0.0130 - accuracy: 1.0000\n",
            "Epoch 75/100\n",
            "35/35 [==============================] - 0s 858us/step - loss: 0.0127 - accuracy: 0.9987\n",
            "Epoch 76/100\n",
            "35/35 [==============================] - 0s 881us/step - loss: 0.0121 - accuracy: 1.0000\n",
            "Epoch 77/100\n",
            "35/35 [==============================] - 0s 922us/step - loss: 0.0121 - accuracy: 1.0000\n",
            "Epoch 78/100\n",
            "35/35 [==============================] - 0s 904us/step - loss: 0.0116 - accuracy: 1.0000\n",
            "Epoch 79/100\n",
            "35/35 [==============================] - 0s 1ms/step - loss: 0.0113 - accuracy: 0.9987\n",
            "Epoch 80/100\n",
            "35/35 [==============================] - 0s 955us/step - loss: 0.0105 - accuracy: 1.0000\n",
            "Epoch 81/100\n",
            "35/35 [==============================] - 0s 888us/step - loss: 0.0103 - accuracy: 1.0000\n",
            "Epoch 82/100\n",
            "35/35 [==============================] - 0s 1ms/step - loss: 0.0098 - accuracy: 1.0000\n",
            "Epoch 83/100\n",
            "35/35 [==============================] - 0s 894us/step - loss: 0.0096 - accuracy: 1.0000\n",
            "Epoch 84/100\n",
            "35/35 [==============================] - 0s 983us/step - loss: 0.0092 - accuracy: 1.0000\n",
            "Epoch 85/100\n",
            "35/35 [==============================] - 0s 977us/step - loss: 0.0089 - accuracy: 1.0000\n",
            "Epoch 86/100\n",
            "35/35 [==============================] - 0s 918us/step - loss: 0.0090 - accuracy: 1.0000\n",
            "Epoch 87/100\n",
            "35/35 [==============================] - 0s 887us/step - loss: 0.0088 - accuracy: 1.0000\n",
            "Epoch 88/100\n",
            "35/35 [==============================] - 0s 860us/step - loss: 0.0086 - accuracy: 1.0000\n",
            "Epoch 89/100\n",
            "35/35 [==============================] - 0s 893us/step - loss: 0.0084 - accuracy: 1.0000\n",
            "Epoch 90/100\n",
            "35/35 [==============================] - 0s 864us/step - loss: 0.0081 - accuracy: 1.0000\n",
            "Epoch 91/100\n",
            "35/35 [==============================] - 0s 891us/step - loss: 0.0076 - accuracy: 1.0000\n",
            "Epoch 92/100\n",
            "35/35 [==============================] - 0s 869us/step - loss: 0.0078 - accuracy: 0.9987\n",
            "Epoch 93/100\n",
            "35/35 [==============================] - 0s 852us/step - loss: 0.0071 - accuracy: 1.0000\n",
            "Epoch 94/100\n",
            "35/35 [==============================] - 0s 851us/step - loss: 0.0071 - accuracy: 1.0000\n",
            "Epoch 95/100\n",
            "35/35 [==============================] - 0s 871us/step - loss: 0.0069 - accuracy: 1.0000\n",
            "Epoch 96/100\n",
            "35/35 [==============================] - 0s 931us/step - loss: 0.0067 - accuracy: 1.0000\n",
            "Epoch 97/100\n",
            "35/35 [==============================] - 0s 888us/step - loss: 0.0067 - accuracy: 1.0000\n",
            "Epoch 98/100\n",
            "35/35 [==============================] - 0s 876us/step - loss: 0.0065 - accuracy: 1.0000\n",
            "Epoch 99/100\n",
            "35/35 [==============================] - 0s 857us/step - loss: 0.0061 - accuracy: 1.0000\n",
            "Epoch 100/100\n",
            "35/35 [==============================] - 0s 855us/step - loss: 0.0059 - accuracy: 1.0000\n"
          ],
          "name": "stdout"
        },
        {
          "output_type": "execute_result",
          "data": {
            "text/plain": [
              "<tensorflow.python.keras.callbacks.History at 0x7f1d441e1550>"
            ]
          },
          "metadata": {
            "tags": []
          },
          "execution_count": 40
        }
      ]
    },
    {
      "cell_type": "markdown",
      "metadata": {
        "id": "tJj5k2MxZga3",
        "colab_type": "text"
      },
      "source": [
        "## Part 4 - Making the predictions and evaluating the model"
      ]
    },
    {
      "cell_type": "markdown",
      "metadata": {
        "id": "u7yx47jPZt11",
        "colab_type": "text"
      },
      "source": [
        "### Predicting the Test set results"
      ]
    },
    {
      "cell_type": "code",
      "metadata": {
        "id": "nIyEeQdRZwgs",
        "colab_type": "code",
        "colab": {
          "base_uri": "https://localhost:8080/",
          "height": 1000
        },
        "outputId": "66a7e43c-44cc-4268-abf5-9d2f3bdfcf14"
      },
      "source": [
        "y_pred = ann.predict(X_test)\n",
        "y_pred = (y_pred > 0.5)\n",
        "print(np.concatenate((y_pred.reshape(len(y_pred),1), y_test.reshape(len(y_test),1)),1))"
      ],
      "execution_count": 41,
      "outputs": [
        {
          "output_type": "stream",
          "text": [
            "[[0 0]\n",
            " [1 1]\n",
            " [1 1]\n",
            " [1 1]\n",
            " [1 1]\n",
            " [0 0]\n",
            " [1 1]\n",
            " [1 1]\n",
            " [0 0]\n",
            " [1 1]\n",
            " [1 1]\n",
            " [1 1]\n",
            " [1 1]\n",
            " [1 1]\n",
            " [0 0]\n",
            " [1 1]\n",
            " [0 0]\n",
            " [1 1]\n",
            " [0 0]\n",
            " [1 1]\n",
            " [1 1]\n",
            " [1 1]\n",
            " [0 0]\n",
            " [1 1]\n",
            " [0 0]\n",
            " [1 1]\n",
            " [1 1]\n",
            " [1 1]\n",
            " [0 0]\n",
            " [1 1]\n",
            " [0 0]\n",
            " [0 0]\n",
            " [1 1]\n",
            " [1 1]\n",
            " [0 0]\n",
            " [1 1]\n",
            " [1 1]\n",
            " [0 0]\n",
            " [0 0]\n",
            " [0 0]\n",
            " [0 0]\n",
            " [1 1]\n",
            " [1 1]\n",
            " [1 1]\n",
            " [1 1]\n",
            " [0 0]\n",
            " [0 0]\n",
            " [0 0]\n",
            " [1 1]\n",
            " [1 1]\n",
            " [1 1]\n",
            " [1 1]\n",
            " [0 0]\n",
            " [1 1]\n",
            " [0 0]\n",
            " [0 0]\n",
            " [0 0]\n",
            " [0 0]\n",
            " [1 1]\n",
            " [1 1]\n",
            " [1 1]\n",
            " [0 0]\n",
            " [1 1]\n",
            " [0 0]\n",
            " [1 1]\n",
            " [0 0]\n",
            " [1 1]\n",
            " [0 0]\n",
            " [0 0]\n",
            " [1 1]\n",
            " [1 1]\n",
            " [1 1]\n",
            " [0 0]\n",
            " [1 1]\n",
            " [0 0]\n",
            " [1 1]\n",
            " [1 1]\n",
            " [0 0]\n",
            " [1 1]\n",
            " [1 1]\n",
            " [0 0]\n",
            " [0 0]\n",
            " [0 0]\n",
            " [1 1]\n",
            " [1 1]\n",
            " [1 1]\n",
            " [1 1]\n",
            " [0 0]\n",
            " [1 1]\n",
            " [1 1]\n",
            " [1 1]\n",
            " [1 1]\n",
            " [1 1]\n",
            " [1 1]\n",
            " [0 0]\n",
            " [1 1]\n",
            " [0 0]\n",
            " [0 0]\n",
            " [1 1]\n",
            " [1 1]\n",
            " [0 0]\n",
            " [1 1]\n",
            " [1 1]\n",
            " [1 1]\n",
            " [1 1]\n",
            " [1 1]\n",
            " [1 1]\n",
            " [1 1]\n",
            " [1 1]\n",
            " [1 1]\n",
            " [1 1]\n",
            " [1 1]\n",
            " [0 0]\n",
            " [1 1]\n",
            " [1 1]\n",
            " [1 1]\n",
            " [1 0]\n",
            " [0 0]\n",
            " [1 1]\n",
            " [0 0]\n",
            " [1 0]\n",
            " [1 1]\n",
            " [1 1]\n",
            " [0 0]\n",
            " [1 1]\n",
            " [0 0]\n",
            " [0 0]\n",
            " [1 1]\n",
            " [1 1]\n",
            " [0 0]\n",
            " [0 0]\n",
            " [0 0]\n",
            " [1 1]\n",
            " [1 1]\n",
            " [1 0]\n",
            " [1 1]\n",
            " [0 0]\n",
            " [0 0]\n",
            " [1 1]\n",
            " [1 1]\n",
            " [1 1]\n",
            " [0 0]\n",
            " [0 0]\n",
            " [1 1]\n",
            " [1 1]\n",
            " [0 0]\n",
            " [0 0]\n",
            " [0 0]\n",
            " [0 0]\n",
            " [1 1]\n",
            " [0 0]\n",
            " [0 0]\n",
            " [1 1]\n",
            " [1 1]\n",
            " [1 1]\n",
            " [1 1]\n",
            " [1 1]\n",
            " [0 0]\n",
            " [1 1]\n",
            " [0 0]\n",
            " [1 1]\n",
            " [1 1]\n",
            " [1 1]\n",
            " [0 0]\n",
            " [1 1]\n",
            " [1 1]\n",
            " [1 1]\n",
            " [0 0]\n",
            " [1 1]\n",
            " [1 1]\n",
            " [1 1]\n",
            " [1 1]\n",
            " [0 0]\n",
            " [1 1]\n",
            " [1 1]\n",
            " [1 1]\n",
            " [0 0]\n",
            " [0 0]\n",
            " [1 1]\n",
            " [1 1]\n",
            " [1 1]\n",
            " [0 0]\n",
            " [0 0]\n",
            " [0 0]\n",
            " [1 1]\n",
            " [0 0]\n",
            " [0 0]\n",
            " [1 1]\n",
            " [1 1]\n",
            " [1 1]\n",
            " [1 1]\n",
            " [1 1]]\n"
          ],
          "name": "stdout"
        }
      ]
    },
    {
      "cell_type": "markdown",
      "metadata": {
        "id": "o0oyfLWoaEGw",
        "colab_type": "text"
      },
      "source": [
        "### Making the Confusion Matrix"
      ]
    },
    {
      "cell_type": "code",
      "metadata": {
        "id": "ci6K_r6LaF6P",
        "colab_type": "code",
        "colab": {
          "base_uri": "https://localhost:8080/",
          "height": 72
        },
        "outputId": "88c43500-b016-432d-a8e3-c42c3bc3b8a3"
      },
      "source": [
        "from sklearn.metrics import confusion_matrix, accuracy_score\n",
        "cm = confusion_matrix(y_test, y_pred)\n",
        "print(cm)\n",
        "print(\"Accuracy: {:.2f}%\".format(accuracy_score(y_test, y_pred)*100))"
      ],
      "execution_count": 43,
      "outputs": [
        {
          "output_type": "stream",
          "text": [
            "[[ 71   3]\n",
            " [  0 118]]\n",
            "Accuracy: 98.44%\n"
          ],
          "name": "stdout"
        }
      ]
    }
  ]
}